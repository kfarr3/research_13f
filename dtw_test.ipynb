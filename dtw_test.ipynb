{
 "cells": [
  {
   "cell_type": "code",
   "execution_count": 11,
   "metadata": {},
   "outputs": [
    {
     "name": "stderr",
     "output_type": "stream",
     "text": [
      "c:\\users\\kenfa\\appdata\\local\\pypoetry\\cache\\virtualenvs\\general-amrbeabv-py3.7\\lib\\site-packages\\sklearn\\utils\\deprecation.py:144: FutureWarning: The sklearn.cluster.k_means_ module is  deprecated in version 0.22 and will be removed in version 0.24. The corresponding classes / functions should instead be imported from sklearn.cluster. Anything that cannot be imported from sklearn.cluster is now part of the private API.\n",
      "  warnings.warn(message, FutureWarning)\n"
     ]
    }
   ],
   "source": [
    "from tslearn.utils import to_time_series_dataset\n",
    "from tslearn.clustering import TimeSeriesKMeans"
   ]
  },
  {
   "cell_type": "code",
   "execution_count": 8,
   "metadata": {},
   "outputs": [
    {
     "name": "stdout",
     "output_type": "stream",
     "text": [
      "(2, 5, 1)\n"
     ]
    }
   ],
   "source": [
    "my_first_time_series = [1, 3, 4, 2, 4]\n",
    "my_second_time_series = [1, 2, 4, 2, 8]\n",
    "formatted_dataset = to_time_series_dataset([my_first_time_series, my_second_time_series])\n",
    "print(formatted_dataset.shape)"
   ]
  },
  {
   "cell_type": "code",
   "execution_count": 9,
   "metadata": {},
   "outputs": [
    {
     "name": "stdout",
     "output_type": "stream",
     "text": [
      "(3, 5, 1)\n"
     ]
    }
   ],
   "source": [
    "my_third_time_series = [1, 2, 4, 2, 2]\n",
    "formatted_dataset = to_time_series_dataset([my_first_time_series,my_second_time_series, my_third_time_series])\n",
    "print(formatted_dataset.shape)"
   ]
  },
  {
   "cell_type": "code",
   "execution_count": 10,
   "metadata": {},
   "outputs": [
    {
     "data": {
      "text/plain": [
       "array([[[1.],\n",
       "        [3.],\n",
       "        [4.],\n",
       "        [2.],\n",
       "        [4.]],\n",
       "\n",
       "       [[1.],\n",
       "        [2.],\n",
       "        [4.],\n",
       "        [2.],\n",
       "        [8.]],\n",
       "\n",
       "       [[1.],\n",
       "        [2.],\n",
       "        [4.],\n",
       "        [2.],\n",
       "        [2.]]])"
      ]
     },
     "execution_count": 10,
     "metadata": {},
     "output_type": "execute_result"
    }
   ],
   "source": [
    "formatted_dataset"
   ]
  },
  {
   "cell_type": "code",
   "execution_count": 14,
   "metadata": {},
   "outputs": [
    {
     "data": {
      "text/plain": [
       "(2, 5, 1)"
      ]
     },
     "metadata": {},
     "output_type": "display_data"
    },
    {
     "data": {
      "text/plain": [
       "array([[[1. ],\n",
       "        [2.5],\n",
       "        [4. ],\n",
       "        [2. ],\n",
       "        [3. ]],\n",
       "\n",
       "       [[1. ],\n",
       "        [2. ],\n",
       "        [4. ],\n",
       "        [2. ],\n",
       "        [8. ]]])"
      ]
     },
     "metadata": {},
     "output_type": "display_data"
    }
   ],
   "source": [
    "km = TimeSeriesKMeans(n_clusters=2, metric=\"dtw\").fit(formatted_dataset)\n",
    "display(km.cluster_centers_.shape)\n",
    "display(km.cluster_centers_)"
   ]
  },
  {
   "cell_type": "code",
   "execution_count": 15,
   "metadata": {},
   "outputs": [
    {
     "data": {
      "text/plain": [
       "array([0, 1, 0], dtype=int64)"
      ]
     },
     "execution_count": 15,
     "metadata": {},
     "output_type": "execute_result"
    }
   ],
   "source": [
    "km.labels_"
   ]
  }
 ],
 "metadata": {
  "kernelspec": {
   "display_name": "Python 3",
   "language": "python",
   "name": "python3"
  },
  "language_info": {
   "codemirror_mode": {
    "name": "ipython",
    "version": 3
   },
   "file_extension": ".py",
   "mimetype": "text/x-python",
   "name": "python",
   "nbconvert_exporter": "python",
   "pygments_lexer": "ipython3",
   "version": "3.8.6"
  }
 },
 "nbformat": 4,
 "nbformat_minor": 4
}
